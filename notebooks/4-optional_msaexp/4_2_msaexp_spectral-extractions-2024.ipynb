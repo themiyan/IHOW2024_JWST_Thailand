{
 "cells": [
  {
   "cell_type": "markdown",
   "id": "273eb674-6f9a-411c-a309-7a7bc6795108",
   "metadata": {},
   "source": [
    "# Demo of spectral extractions and analysis as of May 2024\n",
    "\n",
    "Note this is a copy of Gabe Brammer's msaexp example notebook: https://github.com/gbrammer/msaexp/tree/main/docs/examples\n",
    "\n",
    "We will use this notebook to do some high level work on reduced data such as fitting redshifts and obtaining line fluxes etc. \n"
   ]
  },
  {
   "cell_type": "code",
   "execution_count": null,
   "id": "f817a338-b400-4efa-8b4d-e65fc3fa8526",
   "metadata": {},
   "outputs": [],
   "source": [
    "import os\n",
    "import numpy as np\n",
    "import matplotlib.pyplot as plt\n",
    "import yaml\n",
    "\n",
    "import astropy.units as u\n",
    "import astropy.io.fits as pyfits\n",
    "\n",
    "import mastquery.utils\n",
    "from grizli import utils\n",
    "import msaexp.slit_combine\n",
    "import msaexp.spectrum\n",
    "import msaexp\n",
    "\n",
    "print('msaexp version: ', msaexp.__version__)"
   ]
  },
  {
   "cell_type": "markdown",
   "id": "140692e0-d163-4f84-bc7b-01f588f611c8",
   "metadata": {},
   "source": [
    "## A reduced RUBIES spectrum\n",
    "\n",
    "https://s3.amazonaws.com/msaexp-nirspec/extractions/rubies-egs61-v2/index.html"
   ]
  },
  {
   "cell_type": "code",
   "execution_count": null,
   "id": "028d39c9-6d41-4d3c-9de7-a5adf698d0b9",
   "metadata": {},
   "outputs": [],
   "source": [
    "spec_file = 'rubies-egs61-v2_prism-clear_4233_44597.spec.fits'\n",
    "\n",
    "srcid = spec_file.split('_')[-1].split('.spec.fits')[0]\n",
    "spec_root = spec_file.split('_')[0]\n",
    "spec_url = f'https://s3.amazonaws.com/msaexp-nirspec/extractions/{spec_root}/{spec_file}'\n",
    "\n",
    "spec_hdu = pyfits.open(spec_url)\n",
    "spec_hdu.writeto(spec_file, overwrite=True)\n",
    "\n",
    "spec_hdu.info()"
   ]
  },
  {
   "cell_type": "code",
   "execution_count": null,
   "id": "65bd17d8-c15f-432f-be94-ce58f6081563",
   "metadata": {},
   "outputs": [],
   "source": [
    "spec = utils.read_catalog(spec_file)\n",
    "spec.info()"
   ]
  },
  {
   "cell_type": "code",
   "execution_count": null,
   "id": "01845f8c-f53e-474e-beb2-dbba87c8799a",
   "metadata": {},
   "outputs": [],
   "source": [
    "# Lots of metadata\n",
    "print(yaml.dump(dict(spec.meta)))"
   ]
  },
  {
   "cell_type": "markdown",
   "id": "05921110-8785-4cc2-977b-9eb6b0eaf354",
   "metadata": {},
   "source": [
    "### Shutter footprints\n",
    "\n",
    "See if you can match the image you receive here with the APT using ALADIN"
   ]
  },
  {
   "cell_type": "code",
   "execution_count": null,
   "id": "bd7668f3-27b3-43db-9d4b-094178078381",
   "metadata": {},
   "outputs": [],
   "source": [
    "import PIL\n",
    "import urllib\n",
    "\n",
    "# Cutout figure\n",
    "cutout_url = \"https://grizli-cutout.herokuapp.com/thumb?size=1&scl=4.0&invert=True&filters=f444w-clear&rgb_scl=1.5%2C0.74%2C1.3&pl=2&coord={SRCRA},{SRCDEC}&nirspec=True&dpi_scale=6&nrs_source=magenta&nrs_other=magenta&nrs_lw=0.5&nrs_alpha=0.8\"\n",
    "\n",
    "img = np.array(PIL.Image.open(urllib.request.urlopen(cutout_url.format(**spec.meta))))\n",
    "\n",
    "fig, ax = plt.subplots(1,1,figsize=(5,5))\n",
    "_ = ax.imshow(img[::-1,:,:])\n",
    "ax.axis('off')"
   ]
  },
  {
   "cell_type": "code",
   "execution_count": null,
   "id": "0eff2895-7a6c-49e6-ac28-c23309b51fe5",
   "metadata": {},
   "outputs": [],
   "source": [
    "# The actual footprints\n",
    "slits_url = \"https://grizli-cutout.herokuapp.com/nirspec_slits?coord={SRCRA},{SRCDEC}\"\n",
    "slits = utils.read_catalog(slits_url.format(**spec.meta), format='csv')\n",
    "slits['program','source_id','grating','is_source','footprint']"
   ]
  },
  {
   "cell_type": "markdown",
   "id": "7c138b08-645b-40f9-904b-2165ed35e356",
   "metadata": {},
   "source": [
    "### Read the MAST spectrum for comparison"
   ]
  },
  {
   "cell_type": "code",
   "execution_count": null,
   "id": "f36667d1-aed8-4174-80e1-c65098ffd118",
   "metadata": {},
   "outputs": [],
   "source": [
    "mast_file = 'jw{PROGRAM}-o{OBSERVTN}_s{SOURCEID}_nirspec_{FILTER}-{GRATING}_x1d.fits'.format(**spec.meta).lower()\n",
    "mast_url = 'https://mast.stsci.edu/api/v0.1/Download/file?uri=mast:JWST/product/' + mast_file\n",
    "\n",
    "mast = utils.read_catalog(mast_url)"
   ]
  },
  {
   "cell_type": "code",
   "execution_count": null,
   "id": "aff2d10b-595e-43e6-a845-b909497ef4fd",
   "metadata": {},
   "outputs": [],
   "source": [
    "mast.info()"
   ]
  },
  {
   "cell_type": "markdown",
   "id": "e2c4cad6-9452-40c3-bf97-f42e13d45b38",
   "metadata": {},
   "source": [
    "# Plot the spectrum"
   ]
  },
  {
   "cell_type": "code",
   "execution_count": null,
   "id": "18f0f39e-4e5d-4182-8ac1-51c0ad0b0897",
   "metadata": {},
   "outputs": [],
   "source": [
    "fig, ax = plt.subplots(1,1,figsize=(10,5))\n",
    "\n",
    "pl = ax.plot(spec['wave'], spec['flux'], label='msaexp', color='steelblue', alpha=0.5)\n",
    "ax.plot(spec['wave'], spec['err'], color=pl[0].get_color(), alpha=0.5)\n",
    "\n",
    "pl = ax.plot(mast['WAVELENGTH'], mast['FLUX'].to('microJansky'), label='MAST', color='0.3', alpha=0.5)\n",
    "ax.plot(mast['WAVELENGTH'], mast['FLUX_ERROR'].to('microJansky'), color=pl[0].get_color(), alpha=0.5)\n",
    "\n",
    "ax.legend()\n",
    "\n",
    "ax.set_xlabel('wavelength, um')\n",
    "ax.set_ylabel(r'$f_\\nu$ $\\mu$Jy')\n",
    "ax.grid()"
   ]
  },
  {
   "cell_type": "markdown",
   "id": "24ab4455-ce01-4dac-a7c5-7f84795cada3",
   "metadata": {},
   "source": [
    "# Fitting templates to MSAEXP spectra"
   ]
  },
  {
   "cell_type": "code",
   "execution_count": null,
   "id": "421c3b04-1a35-4208-bac4-5174dbae8f24",
   "metadata": {},
   "outputs": [],
   "source": [
    "fig, fit_table, fit_result = msaexp.spectrum.fit_redshift(\n",
    "    spec_file,\n",
    "    z0=[1,6],\n",
    "    scale_uncertainty_kwargs={},\n",
    ")"
   ]
  },
  {
   "cell_type": "markdown",
   "id": "e851fd4b-1823-4b6c-8df0-406b6c7d1336",
   "metadata": {},
   "source": [
    "## Fitting pieces"
   ]
  },
  {
   "cell_type": "code",
   "execution_count": null,
   "id": "d9ab30f3-0195-4397-8f65-04cb950a06f3",
   "metadata": {},
   "outputs": [],
   "source": [
    "# Spectrum object - read the spectrum table and add helper methods for fitting\n",
    "sampler = msaexp.spectrum.SpectrumSampler(spec_file)"
   ]
  },
  {
   "cell_type": "code",
   "execution_count": null,
   "id": "78ee432a-c00d-471b-aff8-ef405117cfed",
   "metadata": {},
   "outputs": [],
   "source": [
    "# Generate a single emission line\n",
    "\n",
    "line_wave = 3.0 # microns\n",
    "\n",
    "line_i = sampler.fast_emission_line(\n",
    "    line_wave,\n",
    "    line_flux=1.0,\n",
    "    scale_disp=1.0,\n",
    "    velocity_sigma=100,\n",
    ")\n",
    "\n",
    "fig, axes = plt.subplots(2,1,figsize=(8,5), sharex=True)\n",
    "for ax in axes:\n",
    "    ax.plot(sampler['wave'], line_i, color='0.5', alpha=0.5)\n",
    "\n",
    "# Vary line velocity\n",
    "ax = axes[0]\n",
    "for velocity_sigma in [0, 500, 1000, 2000]:\n",
    "    line_i = sampler.fast_emission_line(\n",
    "        line_wave,\n",
    "        line_flux=1.0,\n",
    "        scale_disp=1.0,\n",
    "        velocity_sigma=velocity_sigma,\n",
    "    )\n",
    "    axes[0].plot(sampler['wave'], line_i, label=f'{velocity_sigma} km/s', alpha=0.5)\n",
    "\n",
    "leg = ax.legend()\n",
    "leg.set_title('velocity_sigma')\n",
    "\n",
    "# Vary scale_disp\n",
    "ax = axes[1]\n",
    "for scale_disp in [0.8, 1.3, 1.8]:\n",
    "    line_i = sampler.fast_emission_line(\n",
    "        line_wave,\n",
    "        line_flux=1.0,\n",
    "        scale_disp=scale_disp,\n",
    "        velocity_sigma=100,\n",
    "    )\n",
    "    axes[1].plot(sampler['wave'], line_i, label=f'R * {scale_disp:.1f}', alpha=0.5)\n",
    "\n",
    "leg = ax.legend()\n",
    "leg.set_title('scale_disp')\n",
    "\n",
    "for ax in axes:\n",
    "    ax.grid()\n",
    "    ax.set_xlim(line_wave - 0.1, line_wave + 0.1)\n",
    "\n",
    "ax.set_xlabel('wavelength, um')\n",
    "fig.tight_layout(pad=1)\n"
   ]
  },
  {
   "cell_type": "code",
   "execution_count": null,
   "id": "f42324c0-20bf-49a7-8245-45471ddda6b3",
   "metadata": {},
   "outputs": [],
   "source": [
    "# Spline functions for continuum\n",
    "nspline = 21\n",
    "bsplines = sampler.bspline_array(nspline=nspline, get_matrix=True)"
   ]
  },
  {
   "cell_type": "code",
   "execution_count": null,
   "id": "2d93edf9-ad60-4d05-b584-318d37016873",
   "metadata": {},
   "outputs": [],
   "source": [
    "# Helper for generating emission lines\n",
    "z = fit_result['z']\n",
    "_ = msaexp.spectrum.make_templates(sampler, z, bspl=bsplines)\n",
    "templ_names, is_em_line, templ_matrix = _\n",
    "\n",
    "print('\\n'.join(templ_names))"
   ]
  },
  {
   "cell_type": "code",
   "execution_count": null,
   "id": "08ac8b00-777f-49df-8e91-dd132c3614f4",
   "metadata": {},
   "outputs": [],
   "source": [
    "fig, axes = plt.subplots(2,1,figsize=(8,5), sharex=True)\n",
    "_ = axes[0].plot(sampler['wave'], templ_matrix[~is_em_line].T, alpha=0.3, color='tomato')\n",
    "axes[0].set_ylabel('bsplines')\n",
    "\n",
    "_ = axes[1].plot(sampler['wave'], templ_matrix[is_em_line].T, alpha=0.3, color='olive')\n",
    "axes[1].set_ylabel('em lines')\n",
    "for ax in axes:\n",
    "    ax.grid()\n",
    "\n",
    "ax.set_xlabel('wavelength, um')\n",
    "fig.tight_layout(pad=1)"
   ]
  },
  {
   "cell_type": "markdown",
   "id": "38136fea-298d-4811-a9b0-6633f5df1711",
   "metadata": {},
   "source": [
    "### Fit the template matrix to the spectrum with least squares\n"
   ]
  },
  {
   "cell_type": "code",
   "execution_count": null,
   "id": "ae482985-e675-403e-bf13-8cfc4a304917",
   "metadata": {},
   "outputs": [],
   "source": [
    "# Weighted by uncertainties\n",
    "A = (templ_matrix / sampler['full_err']).T\n",
    "b = sampler['flux'] / sampler['full_err']\n",
    "\n",
    "coeffs = np.linalg.lstsq(A[sampler['valid'],:], b[sampler['valid']], rcond=None)\n",
    "\n",
    "model = templ_matrix.T.dot(coeffs[0])\n",
    "model_components = templ_matrix.T*coeffs[0]\n",
    "\n",
    "# Mask for plot\n",
    "model_components[model_components < 1.e-3] = np.nan"
   ]
  },
  {
   "cell_type": "code",
   "execution_count": null,
   "id": "82858ca6-16f9-4e6c-a7df-71b9703f2671",
   "metadata": {},
   "outputs": [],
   "source": [
    "fig, axes = plt.subplots(2,1,figsize=(8,5))\n",
    "\n",
    "for ax in axes:\n",
    "    _ = ax.errorbar(sampler['wave'], sampler['flux'], sampler['full_err'],\n",
    "                    linestyle='None', alpha=0.3, color='0.3', marker='None')\n",
    "    \n",
    "    ax.step(sampler['wave'], sampler['flux'], color='0.2', where='mid', alpha=0.5, label='data')\n",
    "    \n",
    "    ax.step(sampler['wave'], model, color='tomato', where='mid', alpha=0.5, label=f'model, z={z:.3f}')\n",
    "    ax.step(sampler['wave'], model_components, color='tomato', where='mid', alpha=0.2)\n",
    "    \n",
    "    ax.grid()\n",
    "\n",
    "axes[0].set_xlim(1.9, 3.1)\n",
    "\n",
    "ax.legend()\n",
    "ax.set_xlabel('wavelength, um')\n",
    "fig.tight_layout(pad=1)\n"
   ]
  },
  {
   "cell_type": "code",
   "execution_count": null,
   "id": "36117edc-51a3-4960-8105-6b0f0d19f1a0",
   "metadata": {},
   "outputs": [],
   "source": []
  }
 ],
 "metadata": {
  "kernelspec": {
   "display_name": "nirspec_jdap",
   "language": "python",
   "name": "nirspec_jdap"
  },
  "language_info": {
   "codemirror_mode": {
    "name": "ipython",
    "version": 3
   },
   "file_extension": ".py",
   "mimetype": "text/x-python",
   "name": "python",
   "nbconvert_exporter": "python",
   "pygments_lexer": "ipython3",
   "version": "3.11.5"
  }
 },
 "nbformat": 4,
 "nbformat_minor": 5
}
