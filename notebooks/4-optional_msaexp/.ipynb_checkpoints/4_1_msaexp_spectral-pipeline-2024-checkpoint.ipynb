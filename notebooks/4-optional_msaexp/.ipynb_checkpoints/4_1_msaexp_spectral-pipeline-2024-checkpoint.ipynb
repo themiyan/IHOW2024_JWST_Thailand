{
 "cells": [
  {
   "cell_type": "markdown",
   "id": "39965e47-b6aa-4d3c-a4fc-32db43ea4a45",
   "metadata": {},
   "source": [
    "# Run the MSAEXP pipeline steps for an example dataset from GO-4233 (RUBIES)\n",
    "\n",
    "Note this is a copy of Gabe Brammer's msaexp example notebook: https://github.com/gbrammer/msaexp/tree/main/docs/examples\n",
    "\n",
    "We will use this notebook to do reductions in an alternative way. msaexp still use parts of the STScI pipeline which we used before but there are some changes included to increase the data quality. \n",
    "\n",
    "**Exercise**\n",
    "Go to https://www.stsci.edu/jwst/science-execution/program-information?id=4233 and explore the public pdf and the APT file to get some idea about the program. \n",
    "\n",
    "What is their main scientific objective?\n",
    "\n",
    "**Pipeline steps**\n",
    "\n",
    "1. Query mast and download full-frame exposures (``rate.fits``)\n",
    "1. Run the preprocessing pipline through extracting 2D cutouts\n",
    "1. Combine and rectify the cutouts to a final stack\n",
    "1. Extract 1D spectrum\n",
    "1. (fit redshift, line fluxes, etc. (``spectral-extractions-2024.ipynb``)"
   ]
  },
  {
   "cell_type": "code",
   "execution_count": null,
   "id": "23de284f-8af4-4aa2-b695-6476c450b1f7",
   "metadata": {},
   "outputs": [],
   "source": [
    "import os\n",
    "os.environ['CRDS_PATH'] = os.path.expanduser('/lustre/JDAP/jdap_data/crds_cache')\n",
    "os.environ['CRDS_SERVER_URL'] = 'https://jwst-crds.stsci.edu'\n",
    "\n"
   ]
  },
  {
   "cell_type": "code",
   "execution_count": null,
   "id": "78f1280b",
   "metadata": {},
   "outputs": [],
   "source": [
    "try:\n",
    "    import numba\n",
    "except ImportError:\n",
    "    ! pip install numba"
   ]
  },
  {
   "cell_type": "code",
   "execution_count": null,
   "id": "953c07ae-fa2f-4ed4-9c9f-3383f4d45ed9",
   "metadata": {},
   "outputs": [],
   "source": [
    "import os\n",
    "import glob\n",
    "import yaml\n",
    "import warnings\n",
    "import time\n",
    "\n",
    "import numpy as np\n",
    "import matplotlib.pyplot as plt\n",
    "\n",
    "import grizli\n",
    "from grizli import utils, jwst_utils\n",
    "jwst_utils.set_quiet_logging()\n",
    "utils.set_warnings()\n",
    "\n",
    "import astropy.io.fits as pyfits\n",
    "import jwst.datamodels\n",
    "import jwst\n",
    "\n",
    "import mastquery.jwst\n",
    "\n",
    "import msaexp\n",
    "from msaexp import pipeline\n",
    "import msaexp.slit_combine\n",
    "\n",
    "print(f'jwst version = {jwst.__version__}')\n",
    "print(f'grizli version = {grizli.__version__}')\n",
    "print(f'msaexp version = {msaexp.__version__}')\n",
    "\n",
    "plt.rcParams['scatter.marker'] = '.'\n",
    "plt.rcParams['image.origin'] = 'lower'\n",
    "plt.rcParams['image.interpolation'] = 'nearest'\n",
    "plt.rcParams['grid.linestyle'] = ':'"
   ]
  },
  {
   "cell_type": "markdown",
   "id": "c180ac66-a60f-4593-8a5b-5dc55ab16a63",
   "metadata": {},
   "source": [
    "# Query MAST for NIRSpec data\n",
    "\n",
    "Query by program name and download `rate.fits` files with `mastquery`.  May need to set `$MAST_TOKEN` environment variable to download proprietary datasets from MAST.\n",
    "\n",
    "Can optionally limit the query to specific \n",
    "\n",
    " - gratings:  ``prism``, ``g140m``, ``g235m``, ``g395m``, ``g140m``, ``g235m``, ``g395m``\n",
    " - filters:  ``clear``, ``f170lp``, ``f100lp``, ``f170lp``, ``f290lp``\n",
    " - detectors: ``nrs1``, ``nrs2``\n",
    " \n",
    " "
   ]
  },
  {
   "cell_type": "code",
   "execution_count": null,
   "id": "5d4f7cc5-761e-42a9-86b7-c3f079110864",
   "metadata": {},
   "outputs": [],
   "source": [
    "## Optional\n",
    "# Find the program, source_id based on a particular position\n",
    "ra, dec = 214.97433534766, 52.92461350726\n",
    "\n",
    "slits_url = f\"https://grizli-cutout.herokuapp.com/nirspec_slits?coord={ra},{dec}\"\n",
    "slits = utils.read_catalog(slits_url, format='csv')\n",
    "\n",
    "slits['program','msametfl','source_id','grating','footprint'][slits['is_source'] == 'True']"
   ]
  },
  {
   "cell_type": "code",
   "execution_count": null,
   "id": "c1aeb2c1-c18e-4092-b07a-c287432ba4a0",
   "metadata": {},
   "outputs": [],
   "source": [
    "# JWST observing program ID\n",
    "prog = 4233\n",
    "\n",
    "# Single source for testing\n",
    "source_ids = [\n",
    "    44597, # line emitter\n",
    "    46811, # more extended\n",
    "]\n",
    "\n",
    "# A single RUBIES mask\n",
    "outroot = 'rubies-egs61'\n",
    "mask_query = mastquery.jwst.make_query_filter('visit_id', values=['04233006001'])\n",
    "\n",
    "gratings = ['prism']\n",
    "detectors = ['nrs1'] # limit to NRS1 for the example"
   ]
  },
  {
   "cell_type": "markdown",
   "id": "034ceb8b",
   "metadata": {},
   "source": [
    "## Query and download"
   ]
  },
  {
   "cell_type": "code",
   "execution_count": null,
   "id": "39b5da6a-d6e4-40a4-9514-245980ca8a47",
   "metadata": {},
   "outputs": [],
   "source": [
    "# Query NIRSpec data for a program name\n",
    "masks = pipeline.query_program(prog,\n",
    "    download=False,\n",
    "    detectors=detectors,\n",
    "    gratings=gratings,\n",
    "    extensions=['uncal','s2d'],\n",
    "    extra_filters=mask_query,\n",
    ")\n",
    "\n",
    "files = glob.glob(f'jw0{prog}*rate.fits')\n",
    "\n",
    "print(files)"
   ]
  },
  {
   "cell_type": "code",
   "execution_count": null,
   "id": "58c1b97a-c7cf-4441-b645-7e6b8fabd79c",
   "metadata": {},
   "outputs": [],
   "source": [
    "# Unset DQ=4 pixels to avoid running ``snowblind`` for now\n",
    "for file in files:\n",
    "    with pyfits.open(file, mode='update') as im:\n",
    "        im['DQ'].data -= (im['DQ'].data & 4)\n",
    "        im.flush()"
   ]
  },
  {
   "cell_type": "markdown",
   "id": "3d29d14c-d98b-43d1-bd11-9af6752b2fd8",
   "metadata": {},
   "source": [
    "# Initialize pipeline\n",
    "\n",
    "Exposures are grouped by detector and with a common `MSAMETFL` metadata file for the MSA setup.\n",
    "\n",
    "## Preprocessing pipeline\n",
    "\n",
    "1. Apply 1/f correction and identify \"snowballs\" on the `rate.fits` files\n",
    "1. Remove \"bias\" (i.e., simple median) of each exposure\n",
    "1. Rescale RNOISE array based on empty parts of the exposure\n",
    "1. Run parts of the Level 2 JWST calibration pipeline ([calweb_spec2](https://jwst-pipeline.readthedocs.io/en/latest/jwst/pipeline/calwebb_spec2.html#calwebb-spec2)):\n",
    "    - [AssignWcs](https://jwst-pipeline.readthedocs.io/en/latest/api/jwst.assign_wcs.AssignWcsStep.html) : initialize WCS and populate slit bounding_box data\n",
    "    - [Extract2dStep](https://jwst-pipeline.readthedocs.io/en/latest/api/jwst.extract_2d.Extract2dStep.html) : identify slits and set slit WCS\n",
    "    - [FlatFieldStep](https://jwst-pipeline.readthedocs.io/en/latest/api/jwst.flatfield.FlatFieldStep.html#flatfieldstep) : slit-level flat field\n",
    "    - [PathLossStep](https://jwst-pipeline.readthedocs.io/en/latest/api/jwst.pathloss.PathLossStep.html) : NIRSpec path loss\n",
    "    - [BarShadowStep](https://jwst-pipeline.readthedocs.io/en/latest/api/jwst.barshadow.BarShadowStep.html#jwst.barshadow.BarShadowStep) : Bar Shadow\n",
    "        - See also [MSAEXP PR#66](https://github.com/gbrammer/msaexp/pull/66)\n",
    "    - [PhotomStep](https://jwst-pipeline.readthedocs.io/en/latest/api/jwst.photom.PhotomStep.html) : Photometric calibration\n",
    "    - Note that the `srctype`, `master_background`, `wavecorr` steps are not performed.  The background subtraction is done manually on the 2D slit cutouts.\n",
    "1. Parse slit metadata\n",
    "1. Save slit cutout `SlitModel` files of the last pipeline step performed (`phot` = `PhotomStep`)\n",
    "\n",
    "## Note! \n",
    "\n",
    "When the ``source_ids`` list is specified, the pipeline is only run for those sources in the MSA plan and will be much faster.  Set ``source_ids=None`` to extract *everything*."
   ]
  },
  {
   "cell_type": "code",
   "execution_count": null,
   "id": "008eb00b-8204-4656-939b-b26412ecf2d8",
   "metadata": {},
   "outputs": [],
   "source": [
    "SKIP_COMPLETED = True\n",
    "\n",
    "for file in files:\n",
    "    mode = '-'.join(file.split('_')[:4])    \n",
    "    if (not os.path.exists(f'{mode}.slits.yaml')) & SKIP_COMPLETED:\n",
    "        pipe = pipeline.NirspecPipeline(mode=mode, files=[file])\n",
    "\n",
    "        pipe = pipeline.NirspecPipeline(mode=mode,\n",
    "                                        files=[file],\n",
    "                                        source_ids=source_ids,\n",
    "                                        positive_ids=True # Ignore background slits\n",
    "                                       ) \n",
    "        \n",
    "        pipe.full_pipeline(run_extractions=False,\n",
    "                           initialize_bkg=False,\n",
    "                           load_saved=None,\n",
    "                           scale_rnoise=True)\n",
    "                \n",
    "    else:\n",
    "        print(f'Skip preprocessing: {mode}')"
   ]
  },
  {
   "cell_type": "markdown",
   "id": "fe9e5dfd-b491-4f86-9a37-d763851d1d7d",
   "metadata": {},
   "source": [
    "The final result of the preprocessing pipeline are the SlitModel objects stored in individual ``*.phot.*fits`` files"
   ]
  },
  {
   "cell_type": "code",
   "execution_count": null,
   "id": "49d47e0e-be22-4344-8ea4-64206e9c240e",
   "metadata": {},
   "outputs": [],
   "source": [
    "phot_files = glob.glob(f'jw0{prog}*{source_ids[0]}.fits')\n",
    "phot_files.sort()\n",
    "\n",
    "print('\\n'.join(phot_files))"
   ]
  },
  {
   "cell_type": "code",
   "execution_count": null,
   "id": "8d10f9a1-b7e8-44d7-a04b-6a1334bd09f8",
   "metadata": {},
   "outputs": [],
   "source": [
    "fig, axes = plt.subplots(3, 1, figsize=(8,6), sharex=True, sharey=True)\n",
    "\n",
    "for ax, file in zip(axes, phot_files):\n",
    "    dm = jwst.datamodels.open(file)\n",
    "    ax.imshow(dm.data, vmin=-0.1, vmax=0.3, aspect='auto', cmap='gray_r')\n",
    "    ax.grid()\n",
    "    \n",
    "fig.tight_layout(pad=1)"
   ]
  },
  {
   "cell_type": "markdown",
   "id": "af987b60-e448-4858-aa09-2c2ef29666c3",
   "metadata": {},
   "source": [
    "# Exposure combination and spectral extraction"
   ]
  },
  {
   "cell_type": "code",
   "execution_count": null,
   "id": "195b8683-1a1c-4560-a300-01c570742213",
   "metadata": {},
   "outputs": [],
   "source": [
    "obj = msaexp.slit_combine.SlitGroup?"
   ]
  },
  {
   "cell_type": "code",
   "execution_count": null,
   "id": "bcd7d222-43da-4263-b53b-2bd443e22497",
   "metadata": {},
   "outputs": [],
   "source": [
    "group_kws = dict(\n",
    "    diffs=True, # For nod differences\n",
    "    undo_barshadow=2, # For msaexp barshadow correction\n",
    "    min_bar=0.35, # minimum allowed value for the (inverse) bar shadow correction\n",
    "    position_key=\"y_index\",\n",
    "    trace_with_ypos=True, # Include expected y shutter offset in the trace\n",
    "    trace_from_yoffset=True,\n",
    "    flag_profile_kwargs=None, # Turn off profile flag\n",
    ")    \n",
    "\n",
    "obj = msaexp.slit_combine.SlitGroup(\n",
    "    phot_files,\n",
    "    outroot,\n",
    "    **group_kws,\n",
    ")"
   ]
  },
  {
   "cell_type": "code",
   "execution_count": null,
   "id": "a23eb5f7-d41d-44dd-8f97-dea70c8a281f",
   "metadata": {},
   "outputs": [],
   "source": [
    "print(f\"\"\"\n",
    "Number of exposures: {obj.N}\n",
    "2D array shape: {obj.sh}\n",
    "Flattened data array: {obj.sci.shape}\n",
    "\"\"\")"
   ]
  },
  {
   "cell_type": "markdown",
   "id": "a3b1a9e2-d546-4fb8-bcca-14fe313f19ab",
   "metadata": {},
   "source": [
    "Show the exposure data again now with the trace.\n",
    "\n",
    "Also note that the sky is flatter than before with the updated bar shadow correction."
   ]
  },
  {
   "cell_type": "code",
   "execution_count": null,
   "id": "2ba1e4ad-09c5-476d-8de7-17f93cb321c9",
   "metadata": {},
   "outputs": [],
   "source": [
    "fig, axes = plt.subplots(obj.N, 1, figsize=(8,6), sharex=True, sharey=True)\n",
    "\n",
    "for i, ax in enumerate(axes):\n",
    "    ax.imshow(obj.sci[i,:].reshape(obj.sh), vmin=-0.1, vmax=0.3, aspect='auto', cmap='gray_r')\n",
    "    ax.plot(obj.ytr[i,:], color='magenta', alpha=0.3, lw=4)\n",
    "    ax.grid()\n",
    "    \n",
    "fig.tight_layout(pad=1)"
   ]
  },
  {
   "cell_type": "markdown",
   "id": "af0e0284-87ee-4c4a-b0f1-335bbb8a5cbe",
   "metadata": {},
   "source": [
    "## Fit the trace profile\n",
    "\n",
    "The profile is modeled as a (pixel-integrated) Gaussian with a specified width that is added in quadrature with the tabulated \n",
    "PSF width."
   ]
  },
  {
   "cell_type": "code",
   "execution_count": null,
   "id": "b04871c5-e98a-41fa-be63-94424e956454",
   "metadata": {},
   "outputs": [],
   "source": [
    "obj.fit_all_traces?"
   ]
  },
  {
   "cell_type": "code",
   "execution_count": null,
   "id": "ca2297e6-9f0f-43e1-8918-47111146e6fd",
   "metadata": {},
   "outputs": [],
   "source": [
    "fit = obj.fit_all_traces(\n",
    "    offset_degree=0, # order of the offset polynomial to fit\n",
    "    force_positive=False,\n",
    "    x0=[2, 0.], # Initial guess:  gaussian width in pixels x 10, trace offset pixels\n",
    "    niter=1,\n",
    "    ref_exp=obj.calc_reference_exposure\n",
    ")"
   ]
  },
  {
   "cell_type": "code",
   "execution_count": null,
   "id": "2ada6e51-f9fc-4c08-96bc-077e07805d1d",
   "metadata": {},
   "outputs": [],
   "source": [
    "# Show the profile fit\n",
    "fig2d = obj.plot_2d_differences(fit=fit)"
   ]
  },
  {
   "cell_type": "markdown",
   "id": "2bf18812-82cc-460c-88be-46e05aea17fa",
   "metadata": {},
   "source": [
    "# Resample the spectra to a rectified pixel grid and get optimal 1D extraction"
   ]
  },
  {
   "cell_type": "code",
   "execution_count": null,
   "id": "1d84f9ad-3f13-4916-8ce7-123625d04110",
   "metadata": {},
   "outputs": [],
   "source": [
    "drizzle_kws = dict(\n",
    "    step=1, # cross dispersion step size\n",
    "    ny=15, # number of cross dispersion pixels\n",
    "    with_pathloss=True, # use MSAEXP path loss that accounts for source size\n",
    "    wave_sample=1.05, # wavelength sampling\n",
    "    dkws=dict(oversample=16, pixfrac=0.8),\n",
    ")\n",
    "\n",
    "hdul = msaexp.slit_combine.combine_grating_group(\n",
    "    {'prism': {'obj':obj, 'fit': fit}},\n",
    "     ['prism'],\n",
    "     drizzle_kws=drizzle_kws\n",
    ")\n"
   ]
  },
  {
   "cell_type": "code",
   "execution_count": null,
   "id": "9385222a-6a33-4985-94b8-c03a5b7660cd",
   "metadata": {},
   "outputs": [],
   "source": [
    "hdul.info()"
   ]
  },
  {
   "cell_type": "code",
   "execution_count": null,
   "id": "81c74d64-4b23-422b-94c7-21f15b04601b",
   "metadata": {},
   "outputs": [],
   "source": [
    "spec = utils.read_catalog(hdul['SPEC1D'])\n",
    "\n",
    "fig, ax = plt.subplots(1,1,figsize=(10,5))\n",
    "\n",
    "pl = ax.plot(spec['wave'], spec['flux'], label='msaexp', color='steelblue', alpha=0.5)\n",
    "ax.plot(spec['wave'], spec['err'], color=pl[0].get_color(), alpha=0.5)\n",
    "\n",
    "ax.legend()\n",
    "\n",
    "ax.set_xlabel('wavelength, um')\n",
    "ax.set_ylabel(r'$f_\\nu$ $\\mu$Jy')\n",
    "ax.grid()"
   ]
  },
  {
   "cell_type": "code",
   "execution_count": null,
   "id": "7aa69f0e-e55e-4dad-893d-97713f3a684c",
   "metadata": {},
   "outputs": [],
   "source": [
    "# 2D \n",
    "fig, ax = plt.subplots(1,1,figsize=(10,5))\n",
    "ax.imshow(hdul['SCI'].data, vmin=-0.1, vmax=0.2, aspect='auto', cmap='gray_r')\n",
    "fig.tight_layout(pad=0)"
   ]
  },
  {
   "cell_type": "markdown",
   "id": "3b10fc1c-e710-4431-bbf6-a944df94d9ea",
   "metadata": {},
   "source": [
    "## Estimate the sky directly from the spectrum\n",
    "\n",
    "If the sky is well determined, this can eliminate the need to take the differences of the nodded exposure"
   ]
  },
  {
   "cell_type": "code",
   "execution_count": null,
   "id": "3842e9b9-c3bc-4e87-a742-ff41c446b1c5",
   "metadata": {},
   "outputs": [],
   "source": [
    "obj.estimate_sky?"
   ]
  },
  {
   "cell_type": "code",
   "execution_count": null,
   "id": "5189abd9-2251-463d-92f0-86036c3980a3",
   "metadata": {},
   "outputs": [],
   "source": [
    "estimate_sky_kwargs = dict(\n",
    "    mask_yslit=[[-4.5, 4.5]], # mask pixels expected to contain the source\n",
    "    min_bar=0.95,\n",
    "    df=81, # number of splines to fit.  Needs to be high to fit the wiggles in the sky spectrum\n",
    "    high_clip=1.0,\n",
    "    make_plot=True,\n",
    ")  \n",
    "\n",
    "_ = obj.estimate_sky(**estimate_sky_kwargs)"
   ]
  },
  {
   "cell_type": "markdown",
   "id": "f7344191-37fb-45e2-88fc-78a70a2ebe74",
   "metadata": {},
   "source": [
    "The ``data`` attribute is ``sci - sky2d`` if ``sky2d`` is available"
   ]
  },
  {
   "cell_type": "code",
   "execution_count": null,
   "id": "acdfcaf7-79ae-4e63-a8c8-6b57c9c32a07",
   "metadata": {},
   "outputs": [],
   "source": [
    "fig, axes = plt.subplots(obj.N, 1, figsize=(8,6), sharex=True, sharey=True)\n",
    "\n",
    "for i, ax in enumerate(axes):\n",
    "    ax.imshow(obj.data[i,:].reshape(obj.sh), vmin=-0.1, vmax=0.3, aspect='auto', cmap='gray_r')\n",
    "    ax.plot(obj.ytr[i,:], color='magenta', alpha=0.3, lw=4)\n",
    "    ax.grid()\n",
    "    \n",
    "fig.tight_layout(pad=1)"
   ]
  },
  {
   "cell_type": "markdown",
   "id": "a5078394-0ece-4a4e-a107-8439b89e5d48",
   "metadata": {},
   "source": [
    "## Flag outliers based on the cross-dispersion profile"
   ]
  },
  {
   "cell_type": "code",
   "execution_count": null,
   "id": "4343ab37-4c42-4b21-8cf1-dee9db45896a",
   "metadata": {},
   "outputs": [],
   "source": [
    "obj.flag_from_profile?"
   ]
  },
  {
   "cell_type": "code",
   "execution_count": null,
   "id": "e160e1f7-948a-4bfc-99ac-4068a92692d4",
   "metadata": {},
   "outputs": [],
   "source": [
    "flag_profile_kwargs = dict(require_multiple=True, make_plot=True, grow=2, nfilt=-32)\n",
    "obj.flag_from_profile(**flag_profile_kwargs)"
   ]
  },
  {
   "cell_type": "markdown",
   "id": "16a80512-26d1-47cf-ac30-c4a39e109ffc",
   "metadata": {},
   "source": [
    "## Turn off exposure differences and do resample and extraction again"
   ]
  },
  {
   "cell_type": "code",
   "execution_count": null,
   "id": "55acffe4-2d71-4698-8e8a-edbd2da41156",
   "metadata": {},
   "outputs": [],
   "source": [
    "obj.meta[\"diffs\"] = False"
   ]
  },
  {
   "cell_type": "code",
   "execution_count": null,
   "id": "9180fd47-40fd-4a11-99a8-20ecc7688657",
   "metadata": {},
   "outputs": [],
   "source": [
    "drizzle_kws = dict(\n",
    "    step=1, # cross dispersion step size\n",
    "    ny=15, # number of cross dispersion pixels\n",
    "    with_pathloss=True, # use MSAEXP path loss that accounts for source size\n",
    "    wave_sample=1.05, # wavelength sampling\n",
    "    dkws=dict(oversample=16, pixfrac=0.8),\n",
    ")\n",
    "\n",
    "hdul_nodiff = msaexp.slit_combine.combine_grating_group(\n",
    "    {'prism': {'obj':obj, 'fit': fit}},\n",
    "     ['prism'],\n",
    "     drizzle_kws=drizzle_kws\n",
    ")\n"
   ]
  },
  {
   "cell_type": "code",
   "execution_count": null,
   "id": "f5a665ec-c18e-43cf-b918-dd3dc7eba121",
   "metadata": {},
   "outputs": [],
   "source": [
    "# 2D \n",
    "fig, axes = plt.subplots(2,1,figsize=(10,6), sharex=True, sharey=True)\n",
    "kws = dict(vmin=-0.1, vmax=0.2, aspect='auto', cmap='gray_r')\n",
    "\n",
    "axes[0].imshow(hdul['SCI'].data, **kws)\n",
    "axes[0].set_ylabel('Nod diffs')\n",
    "\n",
    "axes[1].imshow(hdul_nodiff['SCI'].data, **kws)\n",
    "axes[1].set_ylabel('Global sky')\n",
    "\n",
    "fig.tight_layout(pad=0.5)"
   ]
  },
  {
   "cell_type": "markdown",
   "id": "803d72d7-349d-4925-b090-eb5030497632",
   "metadata": {},
   "source": [
    "# Combination and extraction wrapped into a single script"
   ]
  },
  {
   "cell_type": "code",
   "execution_count": null,
   "id": "a01fcd6a-f136-4818-877f-0a5ceb33175d",
   "metadata": {},
   "outputs": [],
   "source": [
    "msaexp.slit_combine.extract_spectra?"
   ]
  },
  {
   "cell_type": "code",
   "execution_count": null,
   "id": "2fe30098-940f-43f6-b140-3c3d75eeb539",
   "metadata": {},
   "outputs": [],
   "source": [
    "group_kws['diffs'] = True\n",
    "group_kws['flag_profile_kwargs'] = flag_profile_kwargs\n",
    "\n",
    "target=f'{prog}_{source_ids[0]}'\n",
    "\n",
    "_ = msaexp.slit_combine.extract_spectra(\n",
    "    target=target,\n",
    "    root=outroot,\n",
    "    **group_kws,\n",
    ")"
   ]
  },
  {
   "cell_type": "code",
   "execution_count": null,
   "id": "db8d8a17-c7da-4ad3-a50c-e839e66bc29a",
   "metadata": {},
   "outputs": [],
   "source": [
    "# With sky estimation\n",
    "group_kws['diffs'] = False\n",
    "\n",
    "_ = msaexp.slit_combine.extract_spectra(\n",
    "    target=target,\n",
    "    root=outroot,\n",
    "    estimate_sky_kwargs=estimate_sky_kwargs,\n",
    "    **group_kws,\n",
    ")"
   ]
  },
  {
   "cell_type": "code",
   "execution_count": null,
   "id": "2c6b7294-ca69-4dba-b762-9032eb3fdaf6",
   "metadata": {},
   "outputs": [],
   "source": [
    "! ls *{target}.*"
   ]
  },
  {
   "cell_type": "markdown",
   "id": "0cc2e02e-96d5-4b5c-97ea-8836f23cb0da",
   "metadata": {},
   "source": [
    "# Fitting and analysis\n",
    "\n",
    "Now go to the ``spectral-extractions-2024.ipynb`` notebook for a demo on fitting the spectra for redshift, lines, etc."
   ]
  },
  {
   "cell_type": "markdown",
   "id": "474e00ec",
   "metadata": {},
   "source": [
    "# Expand sky fit for spatially-extended object"
   ]
  },
  {
   "cell_type": "code",
   "execution_count": null,
   "id": "d6b53e04",
   "metadata": {},
   "outputs": [],
   "source": [
    "# With sky estimation\n",
    "group_kws['diffs'] = False\n",
    "target=f'{prog}_{source_ids[1]}'\n",
    "\n",
    "estimate_sky_kwargs['mask_yslit'] = [[-4.5, 4.5]]\n",
    "estimate_sky_kwargs['high_clip'] = 0.5\n",
    "\n",
    "_ = msaexp.slit_combine.extract_spectra(\n",
    "    target=target,\n",
    "    root=outroot,\n",
    "    estimate_sky_kwargs=estimate_sky_kwargs,\n",
    "    **group_kws,\n",
    ")\n"
   ]
  },
  {
   "cell_type": "code",
   "execution_count": null,
   "id": "11a9a562",
   "metadata": {},
   "outputs": [],
   "source": [
    "estimate_sky_kwargs['mask_yslit'] = [[-4., 7.5]]\n",
    "estimate_sky_kwargs['df'] = 51\n",
    "\n",
    "result = msaexp.slit_combine.extract_spectra(\n",
    "    target=target,\n",
    "    root=outroot,\n",
    "    estimate_sky_kwargs=estimate_sky_kwargs,\n",
    "    **group_kws,\n",
    ")"
   ]
  },
  {
   "cell_type": "code",
   "execution_count": null,
   "id": "d5204771",
   "metadata": {},
   "outputs": [],
   "source": [
    "# Show profile near the Halpha line\n",
    "\n",
    "hdu = result['prism']\n",
    "\n",
    "wave_cuts = {\n",
    "    'continuum blue': [2.5, 2.8],\n",
    "    'continuum red': [3.0, 3.3],\n",
    "    'line': [2.85, 2.91],\n",
    "}\n",
    "\n",
    "spec = utils.read_catalog(hdu['SPEC1D'])\n",
    "\n",
    "y0 = (hdu['SCI'].header['NAXIS2'] - 1)/2\n",
    "y_arcsec = (np.arange(hdu['SCI'].header['NAXIS2']) - y0)*hdu['SCI'].header['YPIXSCL']\n",
    "\n",
    "fig, ax = plt.subplots(1,1,figsize=(8,5), sharex=True)\n",
    "\n",
    "profile = {}\n",
    "\n",
    "for cut in wave_cuts:\n",
    "    slx = slice(*np.cast[int](np.round(np.interp(wave_cuts[cut], spec['wave'], np.arange(len(spec))))))\n",
    "    data = hdu['SCI'].data[:, slx]\n",
    "    wht = hdu['WHT'].data[:, slx]\n",
    "    profile[cut] = np.nansum(data*wht, axis=1) / np.nansum(wht, axis=1)\n",
    "\n",
    "    ax.plot(y_arcsec, profile[cut],\n",
    "                 alpha=0.5,\n",
    "                 color=('0.8' if cut.startswith('continuum') else 'pink')\n",
    "    )\n",
    "\n",
    "ax.set_ylabel('flux')\n",
    "\n",
    "ax.fill_between(y_arcsec, y_arcsec*0.,\n",
    "    (profile['continuum red'] + profile['continuum blue']) / 2.,\n",
    "    color='0.4', alpha=0.3,\n",
    "    label='continuum',\n",
    ")\n",
    "\n",
    "ax.fill_between(y_arcsec, y_arcsec*0.,\n",
    "    profile['line'] - (profile['continuum red'] + profile['continuum blue']) / 2.,\n",
    "    color='tomato', alpha=0.3,\n",
    "    label='line - cont.',\n",
    ")\n",
    "\n",
    "ax.legend()\n",
    "\n",
    "ax.set_xlabel(r'$\\Delta y$, arcsec')\n",
    "\n",
    "ax.set_xlim(-0.8, 0.8)\n",
    "ax.set_ylim(-0.03, 0.3)\n",
    "\n",
    "ax.grid()\n",
    "\n",
    "\n",
    "_ = fig.tight_layout(pad=0.5)\n",
    "\n",
    "\n",
    "\n",
    "\n"
   ]
  },
  {
   "cell_type": "markdown",
   "id": "52740848",
   "metadata": {},
   "source": []
  }
 ],
 "metadata": {
  "kernelspec": {
   "display_name": "nirspec_jdap",
   "language": "python",
   "name": "nirspec_jdap"
  },
  "language_info": {
   "codemirror_mode": {
    "name": "ipython",
    "version": 3
   },
   "file_extension": ".py",
   "mimetype": "text/x-python",
   "name": "python",
   "nbconvert_exporter": "python",
   "pygments_lexer": "ipython3",
   "version": "3.11.5"
  }
 },
 "nbformat": 4,
 "nbformat_minor": 5
}
