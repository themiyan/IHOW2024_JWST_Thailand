{
 "cells": [
  {
   "cell_type": "code",
   "execution_count": null,
   "id": "001b0d0e-30d8-421e-b457-295370d9d92c",
   "metadata": {},
   "outputs": [],
   "source": []
  },
  {
   "cell_type": "code",
   "execution_count": null,
   "id": "33978f85-31d2-4807-9000-8c25c1a7d4dc",
   "metadata": {},
   "outputs": [],
   "source": [
    "# Environment variables for jwst pipeline\n",
    "import os\n",
    "\n",
    "\n",
    "# Set the environment variables\n",
    "os.environ['CRDS_PATH'] = os.path.expanduser('~/crds_cache')\n",
    "os.environ['CRDS_SERVER_URL'] = 'https://jwst-crds.stsci.edu'\n",
    "\n",
    "\n",
    "for k in ['CRDS_SERVER_URL','CRDS_PATH']:\n",
    "    if k not in os.environ:\n",
    "        print(f\"Environment variable {k} not set, `jwst` pipeline won't work\")\n",
    "    else:\n",
    "        print(f\"{k}: {os.environ[k]}\")\n",
    "import os\n",
    "import glob\n",
    "import yaml\n",
    "import warnings\n",
    "\n",
    "import numpy as np\n",
    "import matplotlib.pyplot as plt\n",
    "\n",
    "import grizli\n",
    "from grizli import utils, jwst_utils\n",
    "jwst_utils.set_quiet_logging()\n",
    "utils.set_warnings()\n",
    "\n",
    "import astropy.io.fits as pyfits\n",
    "from jwst.datamodels import SlitModel\n",
    "import jwst\n",
    "\n",
    "import msaexp\n",
    "from msaexp import pipeline\n",
    "\n",
    "print(f'grizli version = {grizli.__version__}')\n",
    "print(f'msaexp version = {msaexp.__version__}')\n",
    "print(f'jwst version = {jwst.__version__}')  "
   ]
  },
  {
   "cell_type": "code",
   "execution_count": null,
   "id": "b43b0f39-7199-4ba4-88e5-ee05d8135516",
   "metadata": {},
   "outputs": [],
   "source": []
  },
  {
   "cell_type": "code",
   "execution_count": null,
   "id": "6fb8b66d-939a-462f-8397-3ed75975d7d2",
   "metadata": {},
   "outputs": [],
   "source": []
  },
  {
   "cell_type": "code",
   "execution_count": null,
   "id": "a91b1574-0e7b-4bc7-8ec3-086051d3adcf",
   "metadata": {},
   "outputs": [],
   "source": []
  },
  {
   "cell_type": "code",
   "execution_count": null,
   "id": "32a831c9-a00e-47ae-9b06-cb31c6c183f3",
   "metadata": {},
   "outputs": [],
   "source": []
  },
  {
   "cell_type": "code",
   "execution_count": null,
   "id": "2e1964ef-0259-4fe1-8199-2dc46cc549c3",
   "metadata": {},
   "outputs": [],
   "source": []
  }
 ],
 "metadata": {
  "kernelspec": {
   "display_name": "nirspec",
   "language": "python",
   "name": "nirspec"
  },
  "language_info": {
   "codemirror_mode": {
    "name": "ipython",
    "version": 3
   },
   "file_extension": ".py",
   "mimetype": "text/x-python",
   "name": "python",
   "nbconvert_exporter": "python",
   "pygments_lexer": "ipython3",
   "version": "3.11.9"
  }
 },
 "nbformat": 4,
 "nbformat_minor": 5
}
