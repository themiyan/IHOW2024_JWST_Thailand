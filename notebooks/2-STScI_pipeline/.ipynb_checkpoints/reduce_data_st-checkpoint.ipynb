{
 "cells": [
  {
   "cell_type": "markdown",
   "id": "d3596b4f-074e-4836-bc31-686ba21d620a",
   "metadata": {},
   "source": [
    "# Reducing NIRSpec MOS data using the JWST Calibration Pipeline\n",
    "\n",
    "This is a very direct workflow of the pipeline. All changes to the pipleine steps are handled through the `config_file's. \n",
    "\n",
    "Important to check what steps can be multiprocessed etc. \n",
    "\n",
    "The pipeline stages are documented here: https://jwst-pipeline.readthedocs.io/en/latest/jwst/pipeline/main.html"
   ]
  },
  {
   "cell_type": "code",
   "execution_count": null,
   "id": "de7d3e84-2bd3-4458-960c-9224b6fedbf6",
   "metadata": {},
   "outputs": [],
   "source": [
    "import asdf\n",
    "import os\n",
    "import glob\n",
    "\n",
    "os.environ['CRDS_PATH'] = os.path.expanduser('/lustre/JDAP/jdap_data/crds_cache')\n",
    "os.environ['CRDS_SERVER_URL'] = 'https://jwst-crds.stsci.edu'\n",
    "\n"
   ]
  },
  {
   "cell_type": "code",
   "execution_count": null,
   "id": "86633a24-91dc-439e-9c16-017901f43f89",
   "metadata": {},
   "outputs": [],
   "source": []
  },
  {
   "cell_type": "markdown",
   "id": "b392cbb2-4824-4f5a-8451-fcf0d117ce36",
   "metadata": {},
   "source": [
    "# MSA meta data file\n",
    "\n",
    "Key information about the MOS observations are stored in this file. \n",
    "Read about the file here: https://jwst-pipeline.readthedocs.io/en/latest/jwst/data_products/msa_metadata.html\n",
    "\n",
    "\n",
    "Because we are only interested in one object (for now in order to save time) we will edit the file so the pipleine will only process that object.\n",
    "\n",
    "If you only have one object in a list and the trace only falls in one detector, for Stage 2 and 3 you need to only use the detector where the object is included. If you have the other detector the peipline will produce an error.  "
   ]
  },
  {
   "cell_type": "code",
   "execution_count": null,
   "id": "dfea4ef5-5f2f-497e-a204-e15d008c7cc2",
   "metadata": {},
   "outputs": [],
   "source": [
    "from astropy.io import fits\n",
    "from astropy.table import Table"
   ]
  },
  {
   "cell_type": "code",
   "execution_count": null,
   "id": "278450e3-3336-459d-a932-ed5afe496dc8",
   "metadata": {},
   "outputs": [],
   "source": [
    "meta_data_file_name = 'jw02565007001_01_msa_original.fits' #\"_original\" is a suffix that is not recognized by the pipeline."
   ]
  },
  {
   "cell_type": "code",
   "execution_count": null,
   "id": "f403add6-d1e4-416d-8a3d-8212751071d5",
   "metadata": {},
   "outputs": [],
   "source": [
    "gal_id =  20115 ## name the source we are interested in"
   ]
  },
  {
   "cell_type": "code",
   "execution_count": null,
   "id": "c53b03c5-370c-4074-b6ac-e71254226a32",
   "metadata": {},
   "outputs": [],
   "source": [
    "\n",
    "meta_file = fits.open(meta_data_file_name)\n",
    "\n",
    "\n",
    "msa_metadata_source_info = Table.read(meta_data_file_name, hdu=3).to_pandas()\n",
    "msa_metadata_slit_info = Table.read(meta_data_file_name, hdu=2).to_pandas()\n",
    "\n",
    "msa_metadata_source_info = msa_metadata_source_info[msa_metadata_source_info['source_id']==gal_id]\n",
    "\n",
    "msa_metadata_source_info['stellarity'] = 1.0\n",
    "\n",
    "\n",
    "meta_file['SOURCE_INFO'] =fits.BinTableHDU(Table.from_pandas(msa_metadata_source_info), name='SOURCE_INFO')\n",
    "\n",
    "msa_metadata_slit_info = msa_metadata_slit_info.query('slitlet_id==' + str(msa_metadata_slit_info.query('source_id=='+str(gal_id)).slitlet_id.values[0]) + '| slitlet_id==' + str(msa_metadata_slit_info.query('source_id=='+str(gal_id)).slitlet_id.values[1]) +  ' | slitlet_id==' + str(msa_metadata_slit_info.query('source_id=='+str(gal_id)).slitlet_id.values[2]))\n",
    "\n",
    "\n",
    "meta_file['SHUTTER_INFO'] =fits.BinTableHDU(Table.from_pandas(msa_metadata_slit_info), name='SHUTTER_INFO')\n",
    "\n",
    "print(\"Source info\", meta_file['SOURCE_INFO'].data)\n",
    "print(\"Shutter info\", meta_file['SHUTTER_INFO'].data)\n",
    "\n",
    "meta_data_file_name_new = meta_data_file_name.replace('msa_original', 'msa')\n",
    "\n",
    "meta_file.writeto(meta_data_file_name_new, overwrite=True)"
   ]
  },
  {
   "cell_type": "code",
   "execution_count": null,
   "id": "2a42b22a-6c48-407e-a549-4da6594a9ffc",
   "metadata": {},
   "outputs": [],
   "source": []
  },
  {
   "cell_type": "markdown",
   "id": "130ef424-e62f-4dbd-9aad-8a70a9e76aae",
   "metadata": {},
   "source": [
    "# STAGE 1\n",
    "\n",
    "Works in detector space. We will use stage 1 data products from MAST and skip this step for now but the overall process is similar. \n",
    "\n",
    "\n",
    "We will skip running Stage 1 of the pipeline for the workshop because it takes a long time. \n",
    "\n",
    "**Exercise**\n",
    "Because we are skipping the Stage 1 of the pipleine, go to https://jwst-pipeline.readthedocs.io/en/latest/jwst/pipeline/calwebb_detector1.html to make sure you understand what steps are performed. Now how common Stage 1 is between NIRSpec and other instruments. \n",
    "\n"
   ]
  },
  {
   "cell_type": "code",
   "execution_count": null,
   "id": "16b68943-5a35-4216-9fb2-658fce27e803",
   "metadata": {},
   "outputs": [],
   "source": [
    "from jwst.pipeline.calwebb_detector1 import Detector1Pipeline\n",
    "\n",
    "det1 = Detector1Pipeline()\n",
    "\n",
    "det_param_reffile = os.path.join(output_dir, 'manual_calwebb_det1.asdf')"
   ]
  },
  {
   "cell_type": "markdown",
   "id": "6f44ec8a-06d3-4bf3-8273-6cf903cc13e3",
   "metadata": {},
   "source": [
    "Export the asdf file and manually edit as needed"
   ]
  },
  {
   "cell_type": "code",
   "execution_count": null,
   "id": "e26bc61f-d15f-44f9-9df2-8f7abe6f5254",
   "metadata": {},
   "outputs": [],
   "source": [
    "if os.path.exists(det_param_reffile):\n",
    "    print(det_param_reffile, ' file is already in directory. It will not be overwritten')\n",
    "else: \n",
    "    det1.export_config(det_param_reffile)"
   ]
  },
  {
   "cell_type": "markdown",
   "id": "e1132e64-46f0-4175-b389-928af725bf4b",
   "metadata": {},
   "source": []
  },
  {
   "cell_type": "markdown",
   "id": "e00379c3-3442-4f87-b505-ab31b328ca9b",
   "metadata": {},
   "source": [
    "Some steps can also be manually changed within the python objects. However, lets stick to editing the .asdf file directly, so there is no confusion about what setting has the highest priority. \n",
    "\n",
    "Get all uncal.fits files. We will feed them into the pipeline to be reduced one at a time. "
   ]
  },
  {
   "cell_type": "code",
   "execution_count": null,
   "id": "134d737b-f43c-4b0f-94bf-a288f8472eb5",
   "metadata": {},
   "outputs": [],
   "source": [
    "level0_data_files = glob.glob(output_dir+'*uncal.fits')\n",
    "level0_data_files.sort()\n",
    "level0_data_files\n",
    "\n",
    "print('files to execute', level0_data_files)"
   ]
  },
  {
   "cell_type": "code",
   "execution_count": null,
   "id": "6777491c-3a1b-4e58-a96e-aadbd8b16233",
   "metadata": {},
   "outputs": [],
   "source": [
    "for fits_image in level0_data_files:\n",
    "    det1.call(fits_image, config_file=det_param_reffile, output_dir=output_dir)"
   ]
  },
  {
   "cell_type": "markdown",
   "id": "9bc97a79-c4f4-4a34-a88b-a76e71b4abfc",
   "metadata": {},
   "source": [
    "# STAGE 2"
   ]
  },
  {
   "cell_type": "code",
   "execution_count": null,
   "id": "1bf5d135-0e02-4524-9cca-54bf6c0ec9ad",
   "metadata": {},
   "outputs": [],
   "source": [
    "from jwst.pipeline.calwebb_spec2 import Spec2Pipeline"
   ]
  },
  {
   "cell_type": "code",
   "execution_count": null,
   "id": "83e8f103-9ab0-4d7d-9ae0-74967ecaef74",
   "metadata": {},
   "outputs": [],
   "source": [
    "spec2 = Spec2Pipeline()\n",
    "spec2_param_reffile = os.path.join(output_dir, 'manual_calwebb_spec2.asdf')"
   ]
  },
  {
   "cell_type": "code",
   "execution_count": null,
   "id": "a8bed1d0-818a-4f85-a750-a5a23349e78f",
   "metadata": {},
   "outputs": [],
   "source": [
    "if os.path.exists(spec2_param_reffile):\n",
    "    print(spec2_param_reffile, ' file is already in directory. It will not be overwritten')\n",
    "else: \n",
    "    spec2.export_config(spec2_param_reffile)\n"
   ]
  },
  {
   "cell_type": "markdown",
   "id": "d34ec671-9e99-41d5-abd4-6144763a1fd4",
   "metadata": {},
   "source": [
    "We now have an association file. This will determine the node patterns etc. \n",
    "Check more information here: https://jwst-pipeline.readthedocs.io/en/latest/jwst/associations/overview.html\n",
    "\n",
    "Then look at the .asn file for this stage to make sure all is good and is as expected. \n",
    "\n",
    "If everything is good we are ready for the data to be reduced\n",
    "\n",
    "Make sure to ask the spec2 to save the results: \n",
    "save_results: true"
   ]
  },
  {
   "cell_type": "code",
   "execution_count": null,
   "id": "bfce1b42-999c-41a6-8900-a647f2ba6b26",
   "metadata": {},
   "outputs": [],
   "source": [
    "%%time\n",
    "\n",
    "spec2_asn_file = 'manual_calwebb2_asn.json'\n",
    "result = spec2.call(spec2_asn_file, config_file=spec2_param_reffile)"
   ]
  },
  {
   "cell_type": "markdown",
   "id": "fc104bbd-7b59-498c-89b3-f0b816ed81af",
   "metadata": {},
   "source": [
    "# STAGE 3\n",
    "\n",
    "**Exercise:**\n",
    "Go to https://jwst-pipeline.readthedocs.io/en/latest/jwst/pipeline/calwebb_spec2.html and read what steps will be run by the pipleine in Stage 2. "
   ]
  },
  {
   "cell_type": "code",
   "execution_count": null,
   "id": "b04f4e1c-3cb5-4d83-b048-390cb73b1d34",
   "metadata": {},
   "outputs": [],
   "source": [
    "from jwst.pipeline.calwebb_spec3 import Spec3Pipeline"
   ]
  },
  {
   "cell_type": "code",
   "execution_count": null,
   "id": "a04bdbfe-72ab-4a72-b3cc-7d09d50d740a",
   "metadata": {},
   "outputs": [],
   "source": [
    "spec3 = Spec3Pipeline()\n",
    "\n",
    "spec3_param_reffile = os.path.join(output_dir, 'manual_calwebb_spec3.asdf')"
   ]
  },
  {
   "cell_type": "code",
   "execution_count": null,
   "id": "0b1b250f-e8c5-44b6-83a2-5ea5793c03cb",
   "metadata": {},
   "outputs": [],
   "source": [
    "if os.path.exists(spec3_param_reffile):\n",
    "    print(spec3_param_reffile, ' file is already in directory. It will not be overwritten')\n",
    "else: \n",
    "    spec3.export_config(spec3_param_reffile)"
   ]
  },
  {
   "cell_type": "markdown",
   "id": "d9202ced-64ae-4422-b4a2-8547407d831c",
   "metadata": {},
   "source": [
    "now again change params in asdf file so results are saved and remove the outlier detection steps and the 1d extraction (we will perform the latter seperately in a more optimal way)."
   ]
  },
  {
   "cell_type": "code",
   "execution_count": null,
   "id": "9b758da1-e19b-4ffd-856b-a20bdc988599",
   "metadata": {},
   "outputs": [],
   "source": [
    "#spec3.outlier_detection.skip = True ### the .asdf file seems to have higher priority now. so changes need to happen there"
   ]
  },
  {
   "cell_type": "markdown",
   "id": "78140e6f-8ff0-4b2b-8d72-5476e3486c00",
   "metadata": {},
   "source": [
    "There is another association file for this step! Check the differences out"
   ]
  },
  {
   "cell_type": "code",
   "execution_count": null,
   "id": "7ce69068-db91-4653-a0de-70cddc749726",
   "metadata": {},
   "outputs": [],
   "source": [
    "%%time\n",
    "\n",
    "result = spec3.call(output_dir+ 'manual_calwebb3_asn.json' , save_results=True, \n",
    "                  config_file=spec3_param_reffile, output_dir=output_dir)"
   ]
  },
  {
   "cell_type": "markdown",
   "id": "4825aa41-3d92-4737-b18e-8730053d55ac",
   "metadata": {},
   "source": [
    "After this step the calibration pipleine is complete. You should have 2D and 1D (if you didn't skip that step) science products. \n",
    "\n",
    "The current calibration pipeline doesn't perfrom an optimal 1D extraction. So we will do that later on outside of the ST pipeline. "
   ]
  },
  {
   "cell_type": "code",
   "execution_count": null,
   "id": "74c27966-e801-469e-8ec5-e2e4b90c9579",
   "metadata": {},
   "outputs": [],
   "source": []
  },
  {
   "cell_type": "markdown",
   "id": "3ca0bfbb-0f5f-428b-9c40-ff1abccbae52",
   "metadata": {},
   "source": [
    "# Check 2D pipleine outputs\n",
    "\n",
    "You can use a software like QFitsView https://www.mpe.mpg.de/~ott/QFitsView/ and/or DS9 https://sites.google.com/cfa.harvard.edu/saoimageds9 to view the data products. \n",
    "\n",
    "They can also be opened up in python. I personally prefer to use a fits viewer instead."
   ]
  },
  {
   "cell_type": "markdown",
   "id": "c2c06f4d-004b-4ecd-adda-3a764e4c412f",
   "metadata": {},
   "source": [
    "## STAGE 2 products"
   ]
  },
  {
   "cell_type": "code",
   "execution_count": null,
   "id": "deb0bc7c-62b7-4e76-a5b1-98edc8d2970d",
   "metadata": {},
   "outputs": [],
   "source": [
    "import matplotlib.pyplot as plt\n",
    "from astropy.visualization import ZScaleInterval\n"
   ]
  },
  {
   "cell_type": "code",
   "execution_count": null,
   "id": "a8653e16-a1ba-491a-a64a-a1fdc543a1fa",
   "metadata": {},
   "outputs": [],
   "source": [
    "cal_files = glob.glob('*cal.fits')\n",
    "cal_files"
   ]
  },
  {
   "cell_type": "code",
   "execution_count": null,
   "id": "91ea5827-2877-4b0b-8aea-ebbd1e11a320",
   "metadata": {},
   "outputs": [],
   "source": [
    "## check what is included\n",
    "fits.open(cal_files[0]).info()"
   ]
  },
  {
   "cell_type": "code",
   "execution_count": null,
   "id": "86132992-66e0-4890-b1a3-4fb2be06f663",
   "metadata": {},
   "outputs": [],
   "source": [
    "### information about the reductions can be found in the headers\n",
    "fits.open(cal_files[0])[0].header ### use 0, 1, 2 like index or names like 'SCI'\n",
    "\n"
   ]
  },
  {
   "cell_type": "markdown",
   "id": "ca747292-5808-45bd-9d78-87a3f7eab1b7",
   "metadata": {},
   "source": [
    "\n",
    "Figure out the units of the flux measurements in the cal file"
   ]
  },
  {
   "cell_type": "markdown",
   "id": "cb5b736d-0fec-4f6d-85f6-11b6dab22fe3",
   "metadata": {},
   "source": [
    "### plot the image"
   ]
  },
  {
   "cell_type": "code",
   "execution_count": null,
   "id": "fdc04303-98dc-442c-858a-a22123577d74",
   "metadata": {},
   "outputs": [],
   "source": [
    "fig, axs = plt.subplots(nrows=3, figsize=(8,12))\n",
    "\n",
    "axs.flatten()\n",
    "\n",
    "for i in range(3):\n",
    "\n",
    "    sci_image = fits.open(cal_files[i])['SCI'].data\n",
    "    ### make in too like zscale in ds9 (can wipe out features so be careful)\n",
    "    zscale = ZScaleInterval()\n",
    "    vmin, vmax = zscale.get_limits(sci_image)\n",
    "    \n",
    "    \n",
    "    cax = axs[i].imshow(sci_image, aspect=4, vmin=vmin, vmax=vmax, cmap='gray')\n",
    "    \n",
    "    fig.colorbar(cax, ax=axs[i], orientation='vertical', label='') ## add the units to the axis label\n",
    "\n"
   ]
  },
  {
   "cell_type": "code",
   "execution_count": null,
   "id": "e68dc860-6a5d-4a54-a6bb-1e3f056718ef",
   "metadata": {},
   "outputs": [],
   "source": []
  },
  {
   "cell_type": "markdown",
   "id": "9c908de1-9a7c-47e9-8235-1dabe193306d",
   "metadata": {},
   "source": [
    "## STAGE 3 products\n",
    "\n",
    "Go to https://jwst-pipeline.readthedocs.io/en/latest/jwst/pipeline/calwebb_spec3.html and read what steps will be run by the pipleine in Stage 3."
   ]
  },
  {
   "cell_type": "code",
   "execution_count": null,
   "id": "b9e901d8-7746-4ca9-a1cd-6e04e0ca47f3",
   "metadata": {},
   "outputs": [],
   "source": [
    "import glob\n",
    "import matplotlib.pyplot as plt\n",
    "from astropy.visualization import ZScaleInterval\n"
   ]
  },
  {
   "cell_type": "code",
   "execution_count": null,
   "id": "49627c42-637a-4536-b5f0-be4e3b6ef675",
   "metadata": {},
   "outputs": [],
   "source": [
    "s2d_files = glob.glob('*s2d.fits')\n",
    "s2d_files.sort(reverse=True) ### reverse the order so that we look at the intermediate s2d files first\n",
    "s2d_files"
   ]
  },
  {
   "cell_type": "code",
   "execution_count": null,
   "id": "a1ade60d-bce0-49c6-8148-eeb86b2847dc",
   "metadata": {},
   "outputs": [],
   "source": []
  },
  {
   "cell_type": "code",
   "execution_count": null,
   "id": "1ad19295-7d67-4f33-8e20-44e710ef1f3b",
   "metadata": {},
   "outputs": [],
   "source": [
    "fig, axs = plt.subplots(nrows=3, figsize=(8,12))\n",
    "\n",
    "axs.flatten()\n",
    "\n",
    "for i in range(3):\n",
    "\n",
    "    sci_image = fits.open(s2d_files[i])['SCI'].data\n",
    "    ### make in too like zscale in ds9 (can wipe out features so be careful)\n",
    "    zscale = ZScaleInterval()\n",
    "    vmin, vmax = zscale.get_limits(sci_image)\n",
    "    \n",
    "    \n",
    "    cax = axs[i].imshow(sci_image, aspect=4, vmin=vmin, vmax=vmax, cmap='gray')\n",
    "    \n",
    "    fig.colorbar(cax, ax=axs[i], orientation='vertical', label='') ## add the units to the axis label\n",
    "\n"
   ]
  },
  {
   "cell_type": "markdown",
   "id": "1822e332-77d2-492e-9fb2-a0cdc35ff34b",
   "metadata": {},
   "source": [
    "#### Look at the final 2D combine frame"
   ]
  },
  {
   "cell_type": "code",
   "execution_count": null,
   "id": "a3dd9714-cc79-4384-9959-9b0dd60cdb50",
   "metadata": {},
   "outputs": [],
   "source": [
    "final_2d_combine_name = 'jw02565-o007_s20115_nirspec_clear-prism_s2d.fits'\n",
    "fits.open(final_2d_combine_name).info()"
   ]
  },
  {
   "cell_type": "code",
   "execution_count": null,
   "id": "1854384b-fd23-4614-a202-239636e867ca",
   "metadata": {},
   "outputs": [],
   "source": [
    "fig, axs = plt.subplots(nrows=1, figsize=(8,4))\n",
    "\n",
    "\n",
    "\n",
    "sci_image = fits.open(final_2d_combine_name)['SCI'].data\n",
    "### make in too like zscale in ds9 (can wipe out features so be careful)\n",
    "zscale = ZScaleInterval()\n",
    "vmin, vmax = zscale.get_limits(sci_image)\n",
    "\n",
    "\n",
    "cax = axs.imshow(sci_image, aspect=4, vmin=vmin, vmax=vmax, cmap='gray')\n",
    "\n",
    "fig.colorbar(cax, ax=axs, orientation='vertical', label='') ## again find the units to the axis label\n",
    "\n"
   ]
  },
  {
   "cell_type": "markdown",
   "id": "f4a12868-dc2a-4dc6-9a9e-39a84edc04a5",
   "metadata": {},
   "source": [
    "### Now look at the ERR and WHT arrays\n",
    "\n"
   ]
  },
  {
   "cell_type": "code",
   "execution_count": null,
   "id": "a7550c95-10e7-47d9-96ae-e3677ddc55d0",
   "metadata": {},
   "outputs": [],
   "source": [
    "fig, axs = plt.subplots(nrows=1, figsize=(8,4))\n",
    "\n",
    "\n",
    "final_2d_combine_name = 'jw02565-o007_s20115_nirspec_clear-prism_s2d.fits'\n",
    "\n",
    "sci_image = fits.open(final_2d_combine_name)['ERR'].data\n",
    "### make in too like zscale in ds9 (can wipe out features so be careful)\n",
    "zscale = ZScaleInterval()\n",
    "vmin, vmax = zscale.get_limits(sci_image)\n",
    "\n",
    "\n",
    "cax = axs.imshow(sci_image, aspect=4, vmin=vmin, vmax=vmax, cmap='gray')\n",
    "\n",
    "fig.colorbar(cax, ax=axs, orientation='vertical', label='') ## again find the units to the axis label\n",
    "\n"
   ]
  },
  {
   "cell_type": "code",
   "execution_count": null,
   "id": "230dd748-c4db-4b78-8922-e71e3eadf59b",
   "metadata": {},
   "outputs": [],
   "source": [
    "fig, axs = plt.subplots(nrows=1, figsize=(8,4))\n",
    "\n",
    "\n",
    "final_2d_combine_name = 'jw02565-o007_s20115_nirspec_clear-prism_s2d.fits'\n",
    "\n",
    "sci_image = fits.open(final_2d_combine_name)['WHT'].data\n",
    "### make in too like zscale in ds9 (can wipe out features so be careful)\n",
    "zscale = ZScaleInterval()\n",
    "vmin, vmax = zscale.get_limits(sci_image)\n",
    "\n",
    "\n",
    "cax = axs.imshow(sci_image, aspect=4, vmin=vmin, vmax=vmax, cmap='gray')\n",
    "\n",
    "fig.colorbar(cax, ax=axs, orientation='vertical', label='') ## again find the units to the axis label\n",
    "\n"
   ]
  },
  {
   "cell_type": "code",
   "execution_count": null,
   "id": "39f4c6e9-d0fe-4b82-a381-02da75ca323c",
   "metadata": {},
   "outputs": [],
   "source": []
  }
 ],
 "metadata": {
  "kernelspec": {
   "display_name": "nirspec",
   "language": "python",
   "name": "nirspec"
  },
  "language_info": {
   "codemirror_mode": {
    "name": "ipython",
    "version": 3
   },
   "file_extension": ".py",
   "mimetype": "text/x-python",
   "name": "python",
   "nbconvert_exporter": "python",
   "pygments_lexer": "ipython3",
   "version": "3.11.5"
  }
 },
 "nbformat": 4,
 "nbformat_minor": 5
}
