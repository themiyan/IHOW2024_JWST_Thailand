{
 "cells": [
  {
   "cell_type": "code",
   "execution_count": null,
   "id": "2cf5c345-c8d3-4209-8094-8ad9263b50b9",
   "metadata": {},
   "outputs": [],
   "source": [
    "import os\n",
    "import numpy as np\n",
    "import matplotlib.pyplot as plt\n",
    "import yaml\n",
    "\n",
    "import astropy.units as u\n",
    "import astropy.io.fits as pyfits\n",
    "\n",
    "import mastquery.utils\n",
    "import mastquery.jwst\n",
    "\n",
    "from grizli import utils\n",
    "import msaexp.slit_combine\n",
    "import msaexp.spectrum\n",
    "import msaexp\n",
    "from msaexp import pipeline\n",
    "\n",
    "import glob\n",
    "\n",
    "print('msaexp version: ', msaexp.__version__)\n",
    "\n",
    "\n",
    "os.chdir('/lustre/JDAP/home/jdap04/temp/') ### take things out of git for now"
   ]
  },
  {
   "cell_type": "code",
   "execution_count": null,
   "id": "558d9e67-de4a-4876-8ed3-0d7cdb79f571",
   "metadata": {},
   "outputs": [],
   "source": []
  },
  {
   "cell_type": "markdown",
   "id": "65af087a-3ed7-4a82-8356-5039ce60b2e4",
   "metadata": {},
   "source": [
    "# Finding objects of interest\n",
    "\n",
    "Before getting into various steps of the NIRSpec data reduction first lets look at how we can plan some science with data in the archive. \n",
    "\n",
    "Imagine that you are intersted in studying the formation of massive galaxies in the early Universe. In our current cosmological models galaxies grow via hierachichal merging. To test the formation and evolution of galaxies we can try to find the most massive quiescent galaxies that are formed in the first ~2 billion years of the Universe. \n",
    "\n",
    "You do a literature search and find the first massive quiescent galaxies that was spectrscopically confirmed at z>3. The galaxy is presented in Glazebrook+2017 https://ui.adsabs.harvard.edu/abs/2017Natur.544...71G/abstract \n",
    "\n",
    "This was done before JWST was operational. The data is from the MOSFIRE instrument in the Keck Telescopes and only covers the K band. You want to see whether someone has obtained a JWST spectrum of this galaxy and use it for your science. \n",
    "\n",
    "\n",
    "**Exercise:**\n",
    "Go to MAST website https://mast.stsci.edu/portal/Mashup/Clients/Mast/Portal.html and find if there are any observations.\n"
   ]
  },
  {
   "cell_type": "code",
   "execution_count": null,
   "id": "b1156279-d154-4365-833f-4a32904ec20c",
   "metadata": {},
   "outputs": [],
   "source": []
  },
  {
   "cell_type": "markdown",
   "id": "8c782a49-57d3-4326-aa4f-0aeb2f477a8d",
   "metadata": {},
   "source": [
    "## Checking data through grizli\n",
    "\n",
    "You can also use the services provided by DJA https://dawn-cph.github.io/dja/index.html to perfom this serach."
   ]
  },
  {
   "cell_type": "code",
   "execution_count": null,
   "id": "a91b1574-0e7b-4bc7-8ec3-086051d3adcf",
   "metadata": {},
   "outputs": [],
   "source": [
    "\n",
    "# Find the program, source_id based on a particular position\n",
    "ra, dec = \n",
    "\n",
    "slits_url = f\"https://grizli-cutout.herokuapp.com/nirspec_slits?coord={ra},{dec}\"\n",
    "slits = utils.read_catalog(slits_url, format='csv')\n",
    "\n",
    "slits['program','msametfl','source_id','grating','footprint'][slits['is_source'] == 'True']"
   ]
  },
  {
   "cell_type": "markdown",
   "id": "7acff6cd-e553-4f04-8a8f-319817878630",
   "metadata": {},
   "source": [
    "OK so there are multiple observations of the source by 2 different programs\n",
    "\n",
    "Let us now first check the footprint of the data."
   ]
  },
  {
   "cell_type": "code",
   "execution_count": null,
   "id": "262c908b-bd92-4d11-8788-daee8087e4f8",
   "metadata": {},
   "outputs": [],
   "source": []
  },
  {
   "cell_type": "code",
   "execution_count": null,
   "id": "84632cda-e8c6-4384-9232-a2c0905c38f5",
   "metadata": {},
   "outputs": [],
   "source": [
    "import PIL\n",
    "import urllib\n",
    "\n",
    "# Cutout figure\n",
    "cutout_url = f\"https://grizli-cutout.herokuapp.com/thumb?size=1&scl=4.0&invert=True&filters=f444w-clear&rgb_scl=1.5%2C0.74%2C1.3&pl=2&coord={ra},{dec}&nirspec=True&dpi_scale=6&nrs_source=magenta&nrs_other=magenta&nrs_lw=0.5&nrs_alpha=0.8\"\n",
    "\n",
    "img = np.array(PIL.Image.open(urllib.request.urlopen(cutout_url)))\n",
    "\n",
    "fig, ax = plt.subplots(1,1,figsize=(5,5))\n",
    "_ = ax.imshow(img[::-1,:,:])\n",
    "ax.axis('off')"
   ]
  },
  {
   "cell_type": "code",
   "execution_count": null,
   "id": "e5401a89-1ae3-4bb2-ac8d-630c03e492a9",
   "metadata": {},
   "outputs": [],
   "source": []
  },
  {
   "cell_type": "markdown",
   "id": "b0a838e6-8b29-4c88-9d08-33a60a9a5339",
   "metadata": {},
   "source": [
    "So the object is observed but we need to look into details a bit more.  \n",
    "\n",
    "**Exercise:**\n",
    "\n",
    "\n",
    "1. Go to DJA website and find the galaxy\n",
    "2. Figure out which program has public data\n",
    "3. Use the APT and ALADIN to visualize the galaxy and objects. Specifically look for where the trace of the primary object of interest falls, any contamination probelms, and what the exposure time specifications are.\n",
    "\n",
    "\n",
    "\n",
    "After this steps you should have a good general understanding on navigating various platforms to learn about the data. i.e. observing modes,  exposure times, settings used by the observers etc. \n",
    "\n",
    "Check if there are any public data availble for this galaxy.\n",
    "\n",
    "Yes! They are publicly available!\n",
    "\n",
    "Now we are ready to start looking at the spectral data."
   ]
  },
  {
   "cell_type": "code",
   "execution_count": null,
   "id": "1b47eccf-141f-44c7-a7f7-b417c280c65a",
   "metadata": {},
   "outputs": [],
   "source": []
  },
  {
   "cell_type": "markdown",
   "id": "5c2d5e96-94a8-42db-9573-aece4a20534d",
   "metadata": {},
   "source": [
    "# Accessing data from MAST\n",
    "\n",
    "First lets download the 1D spectrum of the galaxy to see how it looks. You can compare your result at the end of the day with what the default pipleine has given. "
   ]
  },
  {
   "cell_type": "code",
   "execution_count": null,
   "id": "bf020c3e-e3da-4f89-a660-413266d2828d",
   "metadata": {},
   "outputs": [],
   "source": [
    "PROGRAM='02565'\n",
    "OBSERVTN='007'\n",
    "FILTER = \n",
    "GRATING=\n",
    "SOURCEID = \n"
   ]
  },
  {
   "cell_type": "code",
   "execution_count": null,
   "id": "2def2999-a0cc-4647-992a-7e615e736eee",
   "metadata": {},
   "outputs": [],
   "source": [
    "mast_file = f'jw{PROGRAM}-o{OBSERVTN}_s{SOURCEID}_nirspec_{FILTER}-{GRATING}_x1d.fits'.lower()\n",
    "mast_url = 'https://mast.stsci.edu/api/v0.1/Download/file?uri=mast:JWST/product/' + mast_file\n",
    "\n",
    "mast = utils.read_catalog(mast_url)"
   ]
  },
  {
   "cell_type": "markdown",
   "id": "0629c52d-fa9b-44c8-813c-0138c6c4d6bd",
   "metadata": {},
   "source": [
    "## Plot the spectrum "
   ]
  },
  {
   "cell_type": "code",
   "execution_count": null,
   "id": "1f8ff6ea-d773-4972-9a81-a52d58f8ea14",
   "metadata": {},
   "outputs": [],
   "source": [
    "fig, ax = plt.subplots(1,1,figsize=(10,5))\n",
    "\n",
    "\n",
    "pl = ax.plot(mast['WAVELENGTH'], mast['FLUX'].to('microJansky'), label='MAST', color='0.3', alpha=0.5)\n",
    "ax.plot(mast['WAVELENGTH'], mast['FLUX_ERROR'].to('microJansky'), color=pl[0].get_color(), alpha=0.5)\n",
    "\n",
    "ax.legend()\n",
    "\n",
    "ax.set_xlabel('wavelength, um')\n",
    "ax.set_ylabel(r'$f_\\nu$ $\\mu$Jy')\n",
    "ax.grid()"
   ]
  },
  {
   "cell_type": "code",
   "execution_count": null,
   "id": "730b7dd5-32eb-43a0-8606-b6608866299e",
   "metadata": {},
   "outputs": [],
   "source": []
  },
  {
   "cell_type": "markdown",
   "id": "6f7652db-377b-4c22-919a-d6a6fcbe27d6",
   "metadata": {},
   "source": [
    "# Download Stage 1 data products\n",
    "\n",
    "We shall do the reductions ourselves first to obtain a better quality spectrum. For that, we will start with Stage 2 data products from MAST. \n",
    "\n",
    "\n",
    "We will skip downloading *uncal.fits files (Stage 1 data products) because they are very big. You can find them in /lustre/JDAP/jdap_data/nirspec_mos/data. \n",
    "\n"
   ]
  },
  {
   "cell_type": "code",
   "execution_count": null,
   "id": "e92a36a4-52a9-4939-bca7-205c2e962b6f",
   "metadata": {},
   "outputs": [],
   "source": [
    "prog =  \n",
    "detectors = ['nrs1', 'nrs2']\n",
    "gratings = ['prism']\n",
    "mask_query = mastquery.jwst.make_query_filter('visit_id', values=['02565007001'])\n",
    "\n",
    "\n",
    "# Query NIRSpec data for a program name\n",
    "masks = pipeline.query_program(prog,\n",
    "    download=True,\n",
    "    detectors=detectors,\n",
    "    gratings=gratings,\n",
    "    product='rate', #'uncal'\n",
    "    extra_filters=mask_query, \n",
    ")\n",
    "\n",
    "files = glob.glob(f'jw0{prog}*rate.fits')\n",
    "\n",
    "print(files)"
   ]
  },
  {
   "cell_type": "code",
   "execution_count": null,
   "id": "44c74047-ca51-4520-a52c-c8644a42902f",
   "metadata": {},
   "outputs": [],
   "source": []
  }
 ],
 "metadata": {
  "kernelspec": {
   "display_name": "nirspec_jdap",
   "language": "python",
   "name": "nirspec_jdap"
  },
  "language_info": {
   "codemirror_mode": {
    "name": "ipython",
    "version": 3
   },
   "file_extension": ".py",
   "mimetype": "text/x-python",
   "name": "python",
   "nbconvert_exporter": "python",
   "pygments_lexer": "ipython3",
   "version": "3.11.5"
  }
 },
 "nbformat": 4,
 "nbformat_minor": 5
}
